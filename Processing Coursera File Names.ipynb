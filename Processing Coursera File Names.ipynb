{
 "cells": [
  {
   "cell_type": "markdown",
   "metadata": {},
   "source": [
    "## Using Python Scripting to order the files in coursera when downloaded"
   ]
  },
  {
   "cell_type": "code",
   "execution_count": 2,
   "metadata": {},
   "outputs": [],
   "source": [
    "import os\n",
    "# Save the working directory of the folder where files are downloaded int local vairable path.\n",
    "path = \"C:\\\\Users\\\\Harsha Vardhan\\\\Desktop\\\\Improving Deep Neural Networks\\\\week1\"\n",
    "os.chdir(path)\n",
    "list_names = os.listdir(path) # list names contains all the file names contained in the path\n",
    "list2=[]\n",
    "for name in list_names:\n",
    "    char_lst = list(name) # finding a list for all characters in the name\n",
    "    index_lst = [i for i,x in enumerate(char_lst) if x == '_'] # finding the indices of the character \"_\", \n",
    "    #as we need to delete the extra character  in between these characters.\n",
    "    #https://stackoverflow.com/questions/176918/finding-the-index-of-an-item-given-a-list-containing-it-in-python\n",
    "    if name.startswith(\"_\"):\n",
    "        list2.append(name)\n",
    "        os.rename(name, name[index_lst[1]+1:])"
   ]
  },
  {
   "cell_type": "code",
   "execution_count": null,
   "metadata": {},
   "outputs": [],
   "source": []
  }
 ],
 "metadata": {
  "kernelspec": {
   "display_name": "Python 3",
   "language": "python",
   "name": "python3"
  },
  "language_info": {
   "codemirror_mode": {
    "name": "ipython",
    "version": 3
   },
   "file_extension": ".py",
   "mimetype": "text/x-python",
   "name": "python",
   "nbconvert_exporter": "python",
   "pygments_lexer": "ipython3",
   "version": "3.6.5"
  }
 },
 "nbformat": 4,
 "nbformat_minor": 2
}
