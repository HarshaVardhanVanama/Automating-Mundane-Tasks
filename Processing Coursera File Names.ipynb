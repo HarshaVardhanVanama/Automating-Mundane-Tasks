{
 "cells": [
  {
   "cell_type": "markdown",
   "metadata": {},
   "source": [
    "## Using Python Scripting to order the files in coursera when downloaded"
   ]
  },
  {
   "cell_type": "code",
   "execution_count": 6,
   "metadata": {},
   "outputs": [],
   "source": [
    "import os\n",
    "# Save the working directory of the folder where files are downloaded int local vairable path.\n",
    "path = \"C:\\\\Users\\\\Harsha Vardhan\\\\Desktop\\\\Stucturing Machine Learning Projects\\\\week2\"\n",
    "os.chdir(\"C:\\\\Users\\\\Harsha Vardhan\\\\Desktop\\\\Stucturing Machine Learning Projects\\\\week2\") \n",
    "list_names = os.listdir(path) # list names contains all the file names contained in the path\n",
    "list2=[]\n",
    "for i in list_names:\n",
    "    if i.startswith(\"_\"):\n",
    "        list2.append(i)"
   ]
  },
  {
   "cell_type": "code",
   "execution_count": 7,
   "metadata": {},
   "outputs": [
    {
     "data": {
      "text/plain": [
       "['_277415dd29f35b6bda55d4f90723b427_C3W2L01.pptx',\n",
       " '_4f70a8d10e3492ce2a5b078eb6fe1c0e_Adressing_data_mismatch.pdf',\n",
       " '_5b9d1a8d1ae5c19e6e9bf02dae5535fa_Bias_and_variance_with_mismatched_data_distributions.pdf',\n",
       " '_93b037683cdd4042716e1ad6ce7d6d3c_Build_System_Quickly.pdf',\n",
       " '_aef3049dd9e5e3dea35ee574098fcbb8_Multi_Task_Learning.pdf',\n",
       " '_c05c48f7ff39cc6b1598402a38e7eb4f_C3W2L09.pptx',\n",
       " '_c33d6d76978542b98ee52946565da413_C3W2L07.pptx',\n",
       " '_e0946a9af3e4894375539b557a957d30_What_is_end_to_end_deep_learning.pdf',\n",
       " '_e69846d67d8adc526fe2bbaab9d42d25_C3W2L03.pptx']"
      ]
     },
     "execution_count": 7,
     "metadata": {},
     "output_type": "execute_result"
    }
   ],
   "source": [
    "list2"
   ]
  },
  {
   "cell_type": "code",
   "execution_count": 11,
   "metadata": {},
   "outputs": [],
   "source": [
    "a = '_277415dd29f35b6bda55d4f90723b427_C3W2L01.pptx'"
   ]
  },
  {
   "cell_type": "code",
   "execution_count": 12,
   "metadata": {},
   "outputs": [],
   "source": [
    "a = str(a)"
   ]
  },
  {
   "cell_type": "code",
   "execution_count": null,
   "metadata": {},
   "outputs": [],
   "source": []
  },
  {
   "cell_type": "code",
   "execution_count": null,
   "metadata": {},
   "outputs": [],
   "source": []
  }
 ],
 "metadata": {
  "kernelspec": {
   "display_name": "Python 3",
   "language": "python",
   "name": "python3"
  },
  "language_info": {
   "codemirror_mode": {
    "name": "ipython",
    "version": 3
   },
   "file_extension": ".py",
   "mimetype": "text/x-python",
   "name": "python",
   "nbconvert_exporter": "python",
   "pygments_lexer": "ipython3",
   "version": "3.6.5"
  }
 },
 "nbformat": 4,
 "nbformat_minor": 2
}
